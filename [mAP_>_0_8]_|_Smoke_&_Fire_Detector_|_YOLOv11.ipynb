{
  "metadata": {
    "kernelspec": {
      "language": "python",
      "display_name": "Python 3",
      "name": "python3"
    },
    "language_info": {
      "name": "python",
      "version": "3.10.12",
      "mimetype": "text/x-python",
      "codemirror_mode": {
        "name": "ipython",
        "version": 3
      },
      "pygments_lexer": "ipython3",
      "nbconvert_exporter": "python",
      "file_extension": ".py"
    },
    "kaggle": {
      "accelerator": "nvidiaTeslaT4",
      "dataSources": [
        {
          "sourceId": 10592956,
          "sourceType": "datasetVersion",
          "datasetId": 6556263
        }
      ],
      "dockerImageVersionId": 30840,
      "isInternetEnabled": true,
      "language": "python",
      "sourceType": "notebook",
      "isGpuEnabled": true
    },
    "colab": {
      "name": "[mAP > 0.8] | Smoke & Fire Detector | YOLOv11",
      "provenance": [],
      "include_colab_link": true
    }
  },
  "nbformat_minor": 0,
  "nbformat": 4,
  "cells": [
    {
      "cell_type": "markdown",
      "metadata": {
        "id": "view-in-github",
        "colab_type": "text"
      },
      "source": [
        "<a href=\"https://colab.research.google.com/github/Saponjyan/CS-50-Harvard/blob/main/%5BmAP_%3E_0_8%5D_%7C_Smoke_%26_Fire_Detector_%7C_YOLOv11.ipynb\" target=\"_parent\"><img src=\"https://colab.research.google.com/assets/colab-badge.svg\" alt=\"Open In Colab\"/></a>"
      ]
    },
    {
      "source": [
        "# IMPORTANT: RUN THIS CELL IN ORDER TO IMPORT YOUR KAGGLE DATA SOURCES,\n",
        "# THEN FEEL FREE TO DELETE THIS CELL.\n",
        "# NOTE: THIS NOTEBOOK ENVIRONMENT DIFFERS FROM KAGGLE'S PYTHON\n",
        "# ENVIRONMENT SO THERE MAY BE MISSING LIBRARIES USED BY YOUR\n",
        "# NOTEBOOK.\n",
        "import kagglehub\n",
        "sayedgamal99_smoke_fire_detection_yolo_path = kagglehub.dataset_download('sayedgamal99/smoke-fire-detection-yolo')\n",
        "\n",
        "print('Data source import complete.')\n"
      ],
      "metadata": {
        "id": "qIXf4Dn-8FXT"
      },
      "cell_type": "code",
      "outputs": [],
      "execution_count": null
    },
    {
      "cell_type": "markdown",
      "source": [
        "<div style='background-color: #fff7f7; border: 3px solid Red;'>\n",
        "    <font size=\"+1\" color=\"Red\">\n",
        "        <b>Please comment and upvote if you like this work!</b>\n",
        "    </font>\n",
        "</div>\n",
        "<div style='background-color: #fff7f7; border: 3px solid Blue;'>\n",
        "    <font size=\"+1\" color=\"Red\">\n",
        "        <b>Take a look at the other notebooks in my profile ->\n",
        "        <a href=\"https://www.kaggle.com/killa92/code\">  Kaggle Notebooks </a></b>\n",
        "    </font>\n",
        "</div>    \n",
        "<div style='background-color: #fff7f7; border: 3px solid yellow;'>\n",
        "    <font size=\"+1\" color=\"Red\">\n",
        "        <b><span style='color: green;'>Let's Support Each Other!!</span></b>\n",
        "    </font>\n",
        "</div>"
      ],
      "metadata": {
        "_uuid": "8f2839f25d086af736a60e9eeb907d3b93b6e0e5",
        "_cell_guid": "b1076dfc-b9ad-4769-8c92-a6c4dae69d19",
        "id": "x-Q6QgKT8FXW"
      }
    },
    {
      "cell_type": "markdown",
      "source": [
        "<div style='background-color: #fff7f7; border: 2px solid '>\n",
        "    <font size=\"+2\" color=\"blue\" ><b>🗂️1. Install libraries and Download a pre-trained checkpoint 🗂️</b></font>\n",
        "</div>"
      ],
      "metadata": {
        "id": "ezHfGG_i8FXX"
      }
    },
    {
      "cell_type": "code",
      "source": [
        "!pip install ultralytics\n",
        "from ultralytics import YOLO\n",
        "model = YOLO(\"yolo11n.pt\")"
      ],
      "metadata": {
        "trusted": true,
        "execution": {
          "iopub.status.busy": "2025-04-07T15:45:02.707533Z",
          "iopub.execute_input": "2025-04-07T15:45:02.707863Z",
          "iopub.status.idle": "2025-04-07T15:45:19.401103Z",
          "shell.execute_reply.started": "2025-04-07T15:45:02.707829Z",
          "shell.execute_reply": "2025-04-07T15:45:19.400206Z"
        },
        "id": "g5hi04kQ8FXY",
        "outputId": "7c217211-6f6d-4072-bb18-994496c2c149"
      },
      "outputs": [
        {
          "name": "stdout",
          "text": "Collecting ultralytics\n  Downloading ultralytics-8.3.103-py3-none-any.whl.metadata (37 kB)\nRequirement already satisfied: numpy<=2.1.1,>=1.23.0 in /usr/local/lib/python3.10/dist-packages (from ultralytics) (1.26.4)\nRequirement already satisfied: matplotlib>=3.3.0 in /usr/local/lib/python3.10/dist-packages (from ultralytics) (3.7.5)\nRequirement already satisfied: opencv-python>=4.6.0 in /usr/local/lib/python3.10/dist-packages (from ultralytics) (4.10.0.84)\nRequirement already satisfied: pillow>=7.1.2 in /usr/local/lib/python3.10/dist-packages (from ultralytics) (11.0.0)\nRequirement already satisfied: pyyaml>=5.3.1 in /usr/local/lib/python3.10/dist-packages (from ultralytics) (6.0.2)\nRequirement already satisfied: requests>=2.23.0 in /usr/local/lib/python3.10/dist-packages (from ultralytics) (2.32.3)\nRequirement already satisfied: scipy>=1.4.1 in /usr/local/lib/python3.10/dist-packages (from ultralytics) (1.13.1)\nRequirement already satisfied: torch>=1.8.0 in /usr/local/lib/python3.10/dist-packages (from ultralytics) (2.5.1+cu121)\nRequirement already satisfied: torchvision>=0.9.0 in /usr/local/lib/python3.10/dist-packages (from ultralytics) (0.20.1+cu121)\nRequirement already satisfied: tqdm>=4.64.0 in /usr/local/lib/python3.10/dist-packages (from ultralytics) (4.67.1)\nRequirement already satisfied: psutil in /usr/local/lib/python3.10/dist-packages (from ultralytics) (5.9.5)\nRequirement already satisfied: py-cpuinfo in /usr/local/lib/python3.10/dist-packages (from ultralytics) (9.0.0)\nRequirement already satisfied: pandas>=1.1.4 in /usr/local/lib/python3.10/dist-packages (from ultralytics) (2.2.2)\nRequirement already satisfied: seaborn>=0.11.0 in /usr/local/lib/python3.10/dist-packages (from ultralytics) (0.12.2)\nCollecting ultralytics-thop>=2.0.0 (from ultralytics)\n  Downloading ultralytics_thop-2.0.14-py3-none-any.whl.metadata (9.4 kB)\nRequirement already satisfied: contourpy>=1.0.1 in /usr/local/lib/python3.10/dist-packages (from matplotlib>=3.3.0->ultralytics) (1.3.1)\nRequirement already satisfied: cycler>=0.10 in /usr/local/lib/python3.10/dist-packages (from matplotlib>=3.3.0->ultralytics) (0.12.1)\nRequirement already satisfied: fonttools>=4.22.0 in /usr/local/lib/python3.10/dist-packages (from matplotlib>=3.3.0->ultralytics) (4.55.3)\nRequirement already satisfied: kiwisolver>=1.0.1 in /usr/local/lib/python3.10/dist-packages (from matplotlib>=3.3.0->ultralytics) (1.4.7)\nRequirement already satisfied: packaging>=20.0 in /usr/local/lib/python3.10/dist-packages (from matplotlib>=3.3.0->ultralytics) (24.2)\nRequirement already satisfied: pyparsing>=2.3.1 in /usr/local/lib/python3.10/dist-packages (from matplotlib>=3.3.0->ultralytics) (3.2.0)\nRequirement already satisfied: python-dateutil>=2.7 in /usr/local/lib/python3.10/dist-packages (from matplotlib>=3.3.0->ultralytics) (2.8.2)\nRequirement already satisfied: mkl_fft in /usr/local/lib/python3.10/dist-packages (from numpy<=2.1.1,>=1.23.0->ultralytics) (1.3.8)\nRequirement already satisfied: mkl_random in /usr/local/lib/python3.10/dist-packages (from numpy<=2.1.1,>=1.23.0->ultralytics) (1.2.4)\nRequirement already satisfied: mkl_umath in /usr/local/lib/python3.10/dist-packages (from numpy<=2.1.1,>=1.23.0->ultralytics) (0.1.1)\nRequirement already satisfied: mkl in /usr/local/lib/python3.10/dist-packages (from numpy<=2.1.1,>=1.23.0->ultralytics) (2025.0.1)\nRequirement already satisfied: tbb4py in /usr/local/lib/python3.10/dist-packages (from numpy<=2.1.1,>=1.23.0->ultralytics) (2022.0.0)\nRequirement already satisfied: mkl-service in /usr/local/lib/python3.10/dist-packages (from numpy<=2.1.1,>=1.23.0->ultralytics) (2.4.1)\nRequirement already satisfied: pytz>=2020.1 in /usr/local/lib/python3.10/dist-packages (from pandas>=1.1.4->ultralytics) (2024.2)\nRequirement already satisfied: tzdata>=2022.7 in /usr/local/lib/python3.10/dist-packages (from pandas>=1.1.4->ultralytics) (2024.2)\nRequirement already satisfied: charset-normalizer<4,>=2 in /usr/local/lib/python3.10/dist-packages (from requests>=2.23.0->ultralytics) (3.4.0)\nRequirement already satisfied: idna<4,>=2.5 in /usr/local/lib/python3.10/dist-packages (from requests>=2.23.0->ultralytics) (3.10)\nRequirement already satisfied: urllib3<3,>=1.21.1 in /usr/local/lib/python3.10/dist-packages (from requests>=2.23.0->ultralytics) (2.2.3)\nRequirement already satisfied: certifi>=2017.4.17 in /usr/local/lib/python3.10/dist-packages (from requests>=2.23.0->ultralytics) (2024.12.14)\nRequirement already satisfied: filelock in /usr/local/lib/python3.10/dist-packages (from torch>=1.8.0->ultralytics) (3.16.1)\nRequirement already satisfied: typing-extensions>=4.8.0 in /usr/local/lib/python3.10/dist-packages (from torch>=1.8.0->ultralytics) (4.12.2)\nRequirement already satisfied: networkx in /usr/local/lib/python3.10/dist-packages (from torch>=1.8.0->ultralytics) (3.4.2)\nRequirement already satisfied: jinja2 in /usr/local/lib/python3.10/dist-packages (from torch>=1.8.0->ultralytics) (3.1.4)\nRequirement already satisfied: fsspec in /usr/local/lib/python3.10/dist-packages (from torch>=1.8.0->ultralytics) (2024.9.0)\nRequirement already satisfied: sympy==1.13.1 in /usr/local/lib/python3.10/dist-packages (from torch>=1.8.0->ultralytics) (1.13.1)\nRequirement already satisfied: mpmath<1.4,>=1.1.0 in /usr/local/lib/python3.10/dist-packages (from sympy==1.13.1->torch>=1.8.0->ultralytics) (1.3.0)\nRequirement already satisfied: six>=1.5 in /usr/local/lib/python3.10/dist-packages (from python-dateutil>=2.7->matplotlib>=3.3.0->ultralytics) (1.17.0)\nRequirement already satisfied: MarkupSafe>=2.0 in /usr/local/lib/python3.10/dist-packages (from jinja2->torch>=1.8.0->ultralytics) (3.0.2)\nRequirement already satisfied: intel-openmp>=2024 in /usr/local/lib/python3.10/dist-packages (from mkl->numpy<=2.1.1,>=1.23.0->ultralytics) (2024.2.0)\nRequirement already satisfied: tbb==2022.* in /usr/local/lib/python3.10/dist-packages (from mkl->numpy<=2.1.1,>=1.23.0->ultralytics) (2022.0.0)\nRequirement already satisfied: tcmlib==1.* in /usr/local/lib/python3.10/dist-packages (from tbb==2022.*->mkl->numpy<=2.1.1,>=1.23.0->ultralytics) (1.2.0)\nRequirement already satisfied: intel-cmplr-lib-rt in /usr/local/lib/python3.10/dist-packages (from mkl_umath->numpy<=2.1.1,>=1.23.0->ultralytics) (2024.2.0)\nRequirement already satisfied: intel-cmplr-lib-ur==2024.2.0 in /usr/local/lib/python3.10/dist-packages (from intel-openmp>=2024->mkl->numpy<=2.1.1,>=1.23.0->ultralytics) (2024.2.0)\nDownloading ultralytics-8.3.103-py3-none-any.whl (994 kB)\n\u001b[2K   \u001b[90m━━━━━━━━━━━━━━━━━━━━━━━━━━━━━━━━━━━━━━━━\u001b[0m \u001b[32m994.0/994.0 kB\u001b[0m \u001b[31m15.4 MB/s\u001b[0m eta \u001b[36m0:00:00\u001b[0ma \u001b[36m0:00:01\u001b[0m\n\u001b[?25hDownloading ultralytics_thop-2.0.14-py3-none-any.whl (26 kB)\nInstalling collected packages: ultralytics-thop, ultralytics\nSuccessfully installed ultralytics-8.3.103 ultralytics-thop-2.0.14\nCreating new Ultralytics Settings v0.0.6 file ✅ \nView Ultralytics Settings with 'yolo settings' or at '/root/.config/Ultralytics/settings.json'\nUpdate Settings with 'yolo settings key=value', i.e. 'yolo settings runs_dir=path/to/dir'. For help see https://docs.ultralytics.com/quickstart/#ultralytics-settings.\nDownloading https://github.com/ultralytics/assets/releases/download/v8.3.0/yolo11n.pt to 'yolo11n.pt'...\n",
          "output_type": "stream"
        },
        {
          "name": "stderr",
          "text": "100%|██████████| 5.35M/5.35M [00:00<00:00, 70.0MB/s]\n",
          "output_type": "stream"
        }
      ],
      "execution_count": null
    },
    {
      "cell_type": "markdown",
      "source": [
        "<div style='background-color: #fff7f7; border: 2px solid '>\n",
        "    <font size=\"+2\" color=\"blue\" ><b>📈 2. Data Analysis 📈</b></font>\n",
        "</div>"
      ],
      "metadata": {
        "id": "hL5EI-5-8FXa"
      }
    },
    {
      "cell_type": "code",
      "source": [
        "import os, cv2, yaml, random, numpy as np\n",
        "from PIL import Image\n",
        "from glob import glob\n",
        "from matplotlib import pyplot as plt\n",
        "from torchvision import transforms as T\n",
        "\n",
        "class Visualization:\n",
        "\n",
        "    def __init__(self, root, data_types, n_ims, rows, cmap = None):\n",
        "\n",
        "        self.n_ims, self.rows = n_ims, rows\n",
        "        self.cmap, self.data_types  = cmap, data_types\n",
        "        self.colors = [\"firebrick\", \"darkorange\", \"blueviolet\"]\n",
        "\n",
        "        self.get_cls_names(); self.get_bboxes()\n",
        "\n",
        "    def get_cls_names(self):\n",
        "\n",
        "        with open(f\"{root}/data.yaml\", 'r') as file: data = yaml.safe_load(file)\n",
        "        # Extract class names\n",
        "        class_names = data['names']\n",
        "\n",
        "        # Create a dictionary with index as key and class name as value\n",
        "        self.class_dict = {index: name for index, name in enumerate(class_names)}\n",
        "\n",
        "    def get_bboxes(self):\n",
        "\n",
        "        self.vis_datas, self.analysis_datas, self.im_paths = {}, {}, {}\n",
        "        for data_type in self.data_types:\n",
        "            all_bboxes, all_analysis_datas = [], {}\n",
        "            im_paths = glob(f\"{root}/data/{data_type}/images/*\")\n",
        "\n",
        "            for idx, im_path in enumerate(im_paths):\n",
        "                # if idx == 3: break\n",
        "                bboxes = []\n",
        "                im_ext = os.path.splitext(im_path)[-1]\n",
        "                lbl_path = im_path.replace(im_ext, \".txt\")\n",
        "                lbl_path  = lbl_path.replace(f\"{data_type}/images\", f\"{data_type}/labels\")\n",
        "                if not os.path.isfile(lbl_path): continue\n",
        "                meta_data = open(lbl_path).readlines()\n",
        "                for data in meta_data:\n",
        "                    # Split the string by space and strip the newline character\n",
        "                    # Change here\n",
        "                    parts = data.strip().split()[:5]\n",
        "                    cls_name = self.class_dict[int(parts[0])]\n",
        "                    # Convert first element to integer and the rest to float\n",
        "                    bboxes.append([cls_name] + [float(x) for x in parts[1:]])\n",
        "                    if cls_name not in all_analysis_datas: all_analysis_datas[cls_name] = 1\n",
        "                    else: all_analysis_datas[cls_name] += 1\n",
        "                all_bboxes.append(bboxes)\n",
        "\n",
        "            self.vis_datas[data_type] = all_bboxes; self.analysis_datas[data_type] = all_analysis_datas; self.im_paths[data_type] = im_paths\n",
        "\n",
        "    def plot(self, rows, cols, count, im_path, bboxes):\n",
        "\n",
        "        plt.subplot(rows, cols, count)\n",
        "        or_im = np.array(Image.open(im_path).convert(\"RGB\"))\n",
        "        height, width, _ = or_im.shape\n",
        "\n",
        "        for bbox in bboxes:\n",
        "\n",
        "            class_id, x_center, y_center, w, h = bbox\n",
        "\n",
        "            # Convert YOLO format to pixel values\n",
        "            x_min = int((x_center - w / 2) * width)  # x_min\n",
        "            y_min = int((y_center - h / 2) * height)  # y_min\n",
        "            x_max = int((x_center + w / 2) * width)  # x_max\n",
        "            y_max = int((y_center + h / 2) * height)  # y_max\n",
        "\n",
        "            color = (random.randint(0, 255), random.randint(0, 255), random.randint(0, 255))\n",
        "            cv2.rectangle(img = or_im, pt1 = (x_min, y_min), pt2 = (x_max, y_max), color = color, thickness = 3)\n",
        "        plt.imshow(or_im)\n",
        "        plt.axis(\"off\"); plt.title(f\"There is (are) {len(bboxes)} object(s) in the image.\")\n",
        "\n",
        "        return count + 1\n",
        "\n",
        "    def vis(self, save_name):\n",
        "\n",
        "        print(f\"{save_name.upper()} Data Visualization is in process...\\n\")\n",
        "        assert self.cmap in [\"rgb\", \"gray\"], \"Please choose rgb or gray cmap\"\n",
        "        if self.cmap == \"rgb\": cmap = \"viridis\"\n",
        "        cols = self.n_ims // self.rows; count = 1\n",
        "\n",
        "        plt.figure(figsize = (25, 20))\n",
        "\n",
        "        indices = [random.randint(a = 0, b = len(self.vis_datas[save_name]) - 1) for _ in range(self.n_ims)]\n",
        "\n",
        "        for idx, index in enumerate(indices):\n",
        "\n",
        "            if count == self.n_ims + 1: break\n",
        "\n",
        "            im_path, bboxes = self.im_paths[save_name][index], self.vis_datas[save_name][index]\n",
        "\n",
        "            count = self.plot(self.rows, cols, count, im_path = im_path, bboxes = bboxes)\n",
        "\n",
        "        plt.show()\n",
        "\n",
        "    def data_analysis(self, save_name, color):\n",
        "\n",
        "        print(\"Data analysis is in process...\\n\")\n",
        "\n",
        "        width, text_width, text_height = 0.7, 0.05, 2\n",
        "        cls_names = list(self.analysis_datas[save_name].keys()); counts = list(self.analysis_datas[save_name].values())\n",
        "\n",
        "        _, ax = plt.subplots(figsize = (30, 10))\n",
        "        indices = np.arange(len(counts))\n",
        "\n",
        "        ax.bar(indices, counts, width, color = color)\n",
        "        ax.set_xlabel(\"Class Names\", color = \"black\")\n",
        "        ax.set_xticklabels(cls_names)\n",
        "        ax.set(xticks = indices, xticklabels = cls_names)\n",
        "        ax.set_ylabel(\"Data Counts\", color = \"black\")\n",
        "        ax.set_title(f\"{save_name.upper()} Dataset Class Imbalance Analysis\")\n",
        "\n",
        "        for i, v in enumerate(counts): ax.text(i - text_width, v + text_height, str(v), color = \"royalblue\")\n",
        "\n",
        "    def visualization(self): [self.vis(save_name) for save_name in self.data_types]\n",
        "\n",
        "    def analysis(self): [self.data_analysis(save_name, color) for (save_name, color) in zip(self.data_types, self.colors)]\n",
        "\n",
        "root = \"/kaggle/input/smoke-fire-detection-yolo\"\n",
        "vis = Visualization(root = root, data_types = [\"train\", \"val\", \"test\"], n_ims = 20, rows = 5, cmap = \"rgb\")\n",
        "vis.analysis()"
      ],
      "metadata": {
        "trusted": true,
        "execution": {
          "iopub.status.busy": "2025-04-07T15:45:19.402204Z",
          "iopub.execute_input": "2025-04-07T15:45:19.402725Z"
        },
        "id": "R3IFCZSc8FXb"
      },
      "outputs": [],
      "execution_count": null
    },
    {
      "cell_type": "markdown",
      "source": [
        "<div style='background-color: #fff7f7; border: 2px solid '>\n",
        "    <font size=\"+2\" color=\"blue\" ><b>📊 3. Data Visualization 📊</b></font>\n",
        "</div>"
      ],
      "metadata": {
        "id": "ay0v3LQZ8FXc"
      }
    },
    {
      "cell_type": "code",
      "source": [
        "vis.visualization()"
      ],
      "metadata": {
        "trusted": true,
        "id": "wRTDwfmp8FXe"
      },
      "outputs": [],
      "execution_count": null
    },
    {
      "cell_type": "markdown",
      "source": [
        "<div style='background-color: #fff7f7; border: 2px solid '>\n",
        "    <font size=\"+2\" color=\"blue\" ><b>✨ 4. AI Model Train✨</b></font>\n",
        "</div>"
      ],
      "metadata": {
        "id": "oLeEhic48FXe"
      }
    },
    {
      "cell_type": "code",
      "source": [
        "# Load YAML content into a Python dictionary\n",
        "yml_file_path = f\"{root}/data.yaml\"\n",
        "\n",
        "with open(yml_file_path, 'r') as file: data = yaml.safe_load(file)\n",
        "\n",
        "# Update the paths\n",
        "data['train'] = f'{root}/data/train'\n",
        "data['val']   = f'{root}/data/val'\n",
        "data['test']  = f'{root}/data/test'\n",
        "\n",
        "print(data)\n",
        "# Save the updated YAML content to a file\n",
        "output_path = '/kaggle/working/updated_config.yml'\n",
        "with open(output_path, 'w') as file: yaml.dump(data, file, default_flow_style=False)"
      ],
      "metadata": {
        "trusted": true,
        "id": "RB5H19Z78FXf"
      },
      "outputs": [],
      "execution_count": null
    },
    {
      "cell_type": "code",
      "source": [
        "train_results = model.train(\n",
        "    data=output_path,\n",
        "    epochs=10,  # number of training epochs\n",
        "    imgsz=480,  # training image size\n",
        "    device=[0,1])  # device to run on, i.e. device=0 or device=0,1,2,3 or device=cpu"
      ],
      "metadata": {
        "trusted": true,
        "id": "6b2519Nv8FXg"
      },
      "outputs": [],
      "execution_count": null
    },
    {
      "cell_type": "markdown",
      "source": [
        "<div style='background-color: #fff7f7; border: 2px solid '>\n",
        "    <font size=\"+2\" color=\"blue\" ><b>😍 5. Learning Curves 😍</b></font>\n",
        "</div>"
      ],
      "metadata": {
        "id": "Ha1GoC2e8FXg"
      }
    },
    {
      "cell_type": "code",
      "source": [
        "Image.open(f\"runs/detect/train/confusion_matrix.png\")"
      ],
      "metadata": {
        "trusted": true,
        "id": "njz8GMgs8FXh"
      },
      "outputs": [],
      "execution_count": null
    },
    {
      "cell_type": "code",
      "source": [
        "Image.open(f\"runs/detect/train/results.png\")"
      ],
      "metadata": {
        "trusted": true,
        "id": "vPJytG6D8FXh"
      },
      "outputs": [],
      "execution_count": null
    },
    {
      "cell_type": "code",
      "source": [
        "Image.open(f\"runs/detect/train/P_curve.png\")"
      ],
      "metadata": {
        "trusted": true,
        "id": "UeWsyUg38FXh"
      },
      "outputs": [],
      "execution_count": null
    },
    {
      "cell_type": "code",
      "source": [
        "Image.open(f\"runs/detect/train/PR_curve.png\")"
      ],
      "metadata": {
        "trusted": true,
        "id": "vAe35KWN8FXi"
      },
      "outputs": [],
      "execution_count": null
    },
    {
      "cell_type": "code",
      "source": [
        "Image.open(f\"runs/detect/train/val_batch0_pred.jpg\")"
      ],
      "metadata": {
        "trusted": true,
        "id": "qlOdCu1u8FXi"
      },
      "outputs": [],
      "execution_count": null
    },
    {
      "cell_type": "markdown",
      "source": [
        "<div style='background-color: #fff7f7; border: 2px solid '>\n",
        "    <font size=\"+2\" color=\"blue\" ><b>✅6. Inference with Test Dataset✅</b></font>\n",
        "</div>"
      ],
      "metadata": {
        "id": "AtQZjSVL8FXi"
      }
    },
    {
      "cell_type": "code",
      "source": [
        "inference_results = model(f\"{root}/data/test/images\", device = 0, verbose = False)"
      ],
      "metadata": {
        "trusted": true,
        "id": "DEDt4TIG8FXj"
      },
      "outputs": [],
      "execution_count": null
    },
    {
      "cell_type": "code",
      "source": [
        "def inference_vis(res, n_ims, rows):\n",
        "    cols = n_ims // rows\n",
        "    plt.figure(figsize = (20, 10))\n",
        "    for idx, r in enumerate(res):\n",
        "        if idx == n_ims: break\n",
        "        plt.subplot(rows, cols, idx + 1)\n",
        "        or_im_rgb = np.array(Image.open(r.path).convert(\"RGB\"))\n",
        "        if idx == n_ims: break\n",
        "        for i in r:\n",
        "            for bbox in i.boxes:\n",
        "                box = bbox.xyxy[0]\n",
        "                x1, y1, x2, y2 = box\n",
        "                coord1, coord2 = (int(x1), int(y1)), (int(x2), int(y2))\n",
        "                cv2.rectangle(or_im_rgb, coord1, coord2, color=(255,255,0), thickness=10)\n",
        "        plt.imshow(or_im_rgb)\n",
        "        plt.title(f\"Image#{idx + 1}\")\n",
        "        plt.axis(\"off\")\n",
        "inference_vis(res = inference_results, n_ims = 15, rows = 3)"
      ],
      "metadata": {
        "trusted": true,
        "id": "45Yfv0eu8FXj"
      },
      "outputs": [],
      "execution_count": null
    }
  ]
}